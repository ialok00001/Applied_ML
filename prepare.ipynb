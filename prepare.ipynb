{
 "cells": [
  {
   "cell_type": "markdown",
   "id": "aa5b073e",
   "metadata": {},
   "source": [
    "#### Importing necessary libraries"
   ]
  },
  {
   "cell_type": "code",
   "execution_count": 1,
   "id": "d44366ad",
   "metadata": {},
   "outputs": [
    {
     "name": "stderr",
     "output_type": "stream",
     "text": [
      "[nltk_data] Downloading package stopwords to\n",
      "[nltk_data]     C:\\Users\\Hp\\AppData\\Roaming\\nltk_data...\n",
      "[nltk_data]   Package stopwords is already up-to-date!\n"
     ]
    }
   ],
   "source": [
    "import nltk\n",
    "import pandas as pd\n",
    "import numpy as np\n",
    "from nltk.corpus import stopwords\n",
    "from nltk.tokenize import word_tokenize\n",
    "from sklearn.model_selection import train_test_split\n",
    "import random\n",
    "random.seed(42)\n",
    "import seaborn as sns\n",
    "import matplotlib.pyplot as plt\n",
    "import re\n",
    "\n",
    "%matplotlib inline\n",
    "import matplotlib.pyplot as plt\n",
    "\n",
    "nltk.download('stopwords')\n",
    "\n",
    "import warnings\n",
    "warnings.filterwarnings(\"ignore\")"
   ]
  },
  {
   "cell_type": "code",
   "execution_count": 2,
   "id": "20029b2a",
   "metadata": {},
   "outputs": [],
   "source": [
    "data = pd.read_csv(\"emails.csv\")"
   ]
  },
  {
   "cell_type": "markdown",
   "id": "54f9e6d2",
   "metadata": {},
   "source": [
    "#### Some knowledge of the dataset"
   ]
  },
  {
   "cell_type": "code",
   "execution_count": 3,
   "id": "a49ae3ca",
   "metadata": {},
   "outputs": [
    {
     "data": {
      "text/html": [
       "<div>\n",
       "<style scoped>\n",
       "    .dataframe tbody tr th:only-of-type {\n",
       "        vertical-align: middle;\n",
       "    }\n",
       "\n",
       "    .dataframe tbody tr th {\n",
       "        vertical-align: top;\n",
       "    }\n",
       "\n",
       "    .dataframe thead th {\n",
       "        text-align: right;\n",
       "    }\n",
       "</style>\n",
       "<table border=\"1\" class=\"dataframe\">\n",
       "  <thead>\n",
       "    <tr style=\"text-align: right;\">\n",
       "      <th></th>\n",
       "      <th>text</th>\n",
       "      <th>spam</th>\n",
       "    </tr>\n",
       "  </thead>\n",
       "  <tbody>\n",
       "    <tr>\n",
       "      <th>0</th>\n",
       "      <td>Subject: naturally irresistible your corporate...</td>\n",
       "      <td>1</td>\n",
       "    </tr>\n",
       "    <tr>\n",
       "      <th>1</th>\n",
       "      <td>Subject: the stock trading gunslinger  fanny i...</td>\n",
       "      <td>1</td>\n",
       "    </tr>\n",
       "    <tr>\n",
       "      <th>2</th>\n",
       "      <td>Subject: unbelievable new homes made easy  im ...</td>\n",
       "      <td>1</td>\n",
       "    </tr>\n",
       "    <tr>\n",
       "      <th>3</th>\n",
       "      <td>Subject: 4 color printing special  request add...</td>\n",
       "      <td>1</td>\n",
       "    </tr>\n",
       "    <tr>\n",
       "      <th>4</th>\n",
       "      <td>Subject: do not have money , get software cds ...</td>\n",
       "      <td>1</td>\n",
       "    </tr>\n",
       "  </tbody>\n",
       "</table>\n",
       "</div>"
      ],
      "text/plain": [
       "                                                text  spam\n",
       "0  Subject: naturally irresistible your corporate...     1\n",
       "1  Subject: the stock trading gunslinger  fanny i...     1\n",
       "2  Subject: unbelievable new homes made easy  im ...     1\n",
       "3  Subject: 4 color printing special  request add...     1\n",
       "4  Subject: do not have money , get software cds ...     1"
      ]
     },
     "execution_count": 3,
     "metadata": {},
     "output_type": "execute_result"
    }
   ],
   "source": [
    "data.head()"
   ]
  },
  {
   "cell_type": "code",
   "execution_count": 4,
   "id": "51f6b9eb",
   "metadata": {},
   "outputs": [
    {
     "data": {
      "text/plain": [
       "0    4360\n",
       "1    1368\n",
       "Name: spam, dtype: int64"
      ]
     },
     "execution_count": 4,
     "metadata": {},
     "output_type": "execute_result"
    }
   ],
   "source": [
    "data['spam'].value_counts()"
   ]
  },
  {
   "cell_type": "code",
   "execution_count": 5,
   "id": "0c4e056c",
   "metadata": {},
   "outputs": [
    {
     "name": "stdout",
     "output_type": "stream",
     "text": [
      "Percentage of spam emails = 23.88%\n",
      "Percentage of ham emails = 76.12%\n"
     ]
    }
   ],
   "source": [
    "spam_n, ham_n = len(data[data[\"spam\"] == 1]), len(data[data[\"spam\"] == 0])\n",
    "print(f\"Percentage of spam emails = {round((spam_n)/(spam_n + ham_n) * 100, 2)}%\")\n",
    "print(f\"Percentage of ham emails = {round((ham_n)/(spam_n + ham_n) * 100, 2)}%\")"
   ]
  },
  {
   "cell_type": "code",
   "execution_count": 6,
   "id": "4905fc25",
   "metadata": {},
   "outputs": [
    {
     "data": {
      "text/plain": [
       "(5728, 2)"
      ]
     },
     "execution_count": 6,
     "metadata": {},
     "output_type": "execute_result"
    }
   ],
   "source": [
    "data.shape"
   ]
  },
  {
   "cell_type": "code",
   "execution_count": 7,
   "id": "fffdf132",
   "metadata": {
    "scrolled": true
   },
   "outputs": [
    {
     "name": "stdout",
     "output_type": "stream",
     "text": [
      "              spam\n",
      "count  5728.000000\n",
      "mean      0.238827\n",
      "std       0.426404\n",
      "min       0.000000\n",
      "25%       0.000000\n",
      "50%       0.000000\n",
      "75%       0.000000\n",
      "max       1.000000\n"
     ]
    }
   ],
   "source": [
    "print(data.describe())"
   ]
  },
  {
   "cell_type": "markdown",
   "id": "211d3a84",
   "metadata": {},
   "source": [
    "This is a check to see the structure of messages, i.e., whether all the messages have the structure - \n",
    "\n",
    "\"Subject: \\<text\\>\""
   ]
  },
  {
   "cell_type": "code",
   "execution_count": 8,
   "id": "5066ab8e",
   "metadata": {},
   "outputs": [
    {
     "name": "stdout",
     "output_type": "stream",
     "text": [
      "All messages have the form 'Subject: <text>'\n"
     ]
    }
   ],
   "source": [
    "c = 0\n",
    "\n",
    "regex = f\"^Subject:\\s\"\n",
    "for i in range(data.shape[0]):\n",
    "    match = re.search(regex, data.iloc[i, 0])\n",
    "    if match:\n",
    "        c = c + 1\n",
    "if c == data.shape[0]:\n",
    "    print(\"All messages have the form 'Subject: <text>'\")\n",
    "else:\n",
    "    print(\"The form breaks somewhere\")"
   ]
  },
  {
   "cell_type": "markdown",
   "id": "8af79b5b",
   "metadata": {},
   "source": [
    "#### Preprocessing"
   ]
  },
  {
   "cell_type": "code",
   "execution_count": 9,
   "id": "69eb6f1b",
   "metadata": {},
   "outputs": [
    {
     "name": "stdout",
     "output_type": "stream",
     "text": [
      "Begin text preprocessing:\n",
      "\n",
      "---------------------------------------- : 9% completed\n",
      "++++------------------------------------ : 17% completed\n",
      "++++++++-------------------------------- : 26% completed\n",
      "++++++++++++---------------------------- : 35% completed\n",
      "++++++++++++++++------------------------ : 44% completed\n",
      "++++++++++++++++++++-------------------- : 52% completed\n",
      "++++++++++++++++++++++++---------------- : 61% completed\n",
      "++++++++++++++++++++++++++++------------ : 70% completed\n",
      "++++++++++++++++++++++++++++------------ : 79% completed\n",
      "++++++++++++++++++++++++++++++++-------- : 87% completed\n",
      "++++++++++++++++++++++++++++++++++++---- : 96% completed\n",
      "++++++++++++++++++++++++++++++++++++++++ : 100% completed\n",
      "\n",
      "Preprocessing complete\n"
     ]
    }
   ],
   "source": [
    "def preprocess_text(text):\n",
    "    text = text.lower()\n",
    "    regex = f\"^subject:\\s(.*)\"\n",
    "    match = re.search(regex, text)\n",
    "    if match:\n",
    "      text = match.group(1)\n",
    "    text = re.sub(r\"[^a-z .]\", \"\", text)\n",
    "    words = text.split()\n",
    "    words = [word for word in words if word.isalpha() and word not in stopwords.words('english')]\n",
    "    return ' '.join(words)\n",
    "\n",
    "\n",
    "print(\"Begin text preprocessing:\", end=\"\\n\\n\")\n",
    "data[\"processed_text\"] = \"\"\n",
    "for i in range(data.shape[0]):\n",
    "    if i % 500 == 0 and i != 0:\n",
    "        a = round(i/data.shape[0]*100)\n",
    "        print(\"+\"*(a//10*4) + \"-\"*(40-(a//10*4)) + \" : \"+ str(a) + \"% completed\")\n",
    "    data[\"processed_text\"][i] = preprocess_text(data[\"text\"][i])\n",
    "    if i == data.shape[0]-1:\n",
    "        print(\"+\"*40 + \" : \" + \"100% completed\", end=\"\\n\\n\")\n",
    "print(\"Preprocessing complete\")"
   ]
  },
  {
   "cell_type": "code",
   "execution_count": 10,
   "id": "faed12f0",
   "metadata": {},
   "outputs": [
    {
     "data": {
      "text/html": [
       "<div>\n",
       "<style scoped>\n",
       "    .dataframe tbody tr th:only-of-type {\n",
       "        vertical-align: middle;\n",
       "    }\n",
       "\n",
       "    .dataframe tbody tr th {\n",
       "        vertical-align: top;\n",
       "    }\n",
       "\n",
       "    .dataframe thead th {\n",
       "        text-align: right;\n",
       "    }\n",
       "</style>\n",
       "<table border=\"1\" class=\"dataframe\">\n",
       "  <thead>\n",
       "    <tr style=\"text-align: right;\">\n",
       "      <th></th>\n",
       "      <th>text</th>\n",
       "      <th>spam</th>\n",
       "      <th>processed_text</th>\n",
       "    </tr>\n",
       "  </thead>\n",
       "  <tbody>\n",
       "    <tr>\n",
       "      <th>0</th>\n",
       "      <td>Subject: naturally irresistible your corporate...</td>\n",
       "      <td>1</td>\n",
       "      <td>naturally irresistible corporate identity lt r...</td>\n",
       "    </tr>\n",
       "    <tr>\n",
       "      <th>1</th>\n",
       "      <td>Subject: the stock trading gunslinger  fanny i...</td>\n",
       "      <td>1</td>\n",
       "      <td>stock trading gunslinger fanny merrill muzo co...</td>\n",
       "    </tr>\n",
       "    <tr>\n",
       "      <th>2</th>\n",
       "      <td>Subject: unbelievable new homes made easy  im ...</td>\n",
       "      <td>1</td>\n",
       "      <td>unbelievable new homes made easy im wanting sh...</td>\n",
       "    </tr>\n",
       "    <tr>\n",
       "      <th>3</th>\n",
       "      <td>Subject: 4 color printing special  request add...</td>\n",
       "      <td>1</td>\n",
       "      <td>color printing special request additional info...</td>\n",
       "    </tr>\n",
       "    <tr>\n",
       "      <th>4</th>\n",
       "      <td>Subject: do not have money , get software cds ...</td>\n",
       "      <td>1</td>\n",
       "      <td>money get software cds software compatibility ...</td>\n",
       "    </tr>\n",
       "    <tr>\n",
       "      <th>5</th>\n",
       "      <td>Subject: great nnews  hello , welcome to medzo...</td>\n",
       "      <td>1</td>\n",
       "      <td>great nnews hello welcome medzonline sh ground...</td>\n",
       "    </tr>\n",
       "    <tr>\n",
       "      <th>6</th>\n",
       "      <td>Subject: here ' s a hot play in motion  homela...</td>\n",
       "      <td>1</td>\n",
       "      <td>hot play motion homeland security investments ...</td>\n",
       "    </tr>\n",
       "    <tr>\n",
       "      <th>7</th>\n",
       "      <td>Subject: save your money buy getting this thin...</td>\n",
       "      <td>1</td>\n",
       "      <td>save money buy getting thing tried cialls yet ...</td>\n",
       "    </tr>\n",
       "    <tr>\n",
       "      <th>8</th>\n",
       "      <td>Subject: undeliverable : home based business f...</td>\n",
       "      <td>1</td>\n",
       "      <td>undeliverable home based business grownups mes...</td>\n",
       "    </tr>\n",
       "    <tr>\n",
       "      <th>9</th>\n",
       "      <td>Subject: save your money buy getting this thin...</td>\n",
       "      <td>1</td>\n",
       "      <td>save money buy getting thing tried cialls yet ...</td>\n",
       "    </tr>\n",
       "  </tbody>\n",
       "</table>\n",
       "</div>"
      ],
      "text/plain": [
       "                                                text  spam  \\\n",
       "0  Subject: naturally irresistible your corporate...     1   \n",
       "1  Subject: the stock trading gunslinger  fanny i...     1   \n",
       "2  Subject: unbelievable new homes made easy  im ...     1   \n",
       "3  Subject: 4 color printing special  request add...     1   \n",
       "4  Subject: do not have money , get software cds ...     1   \n",
       "5  Subject: great nnews  hello , welcome to medzo...     1   \n",
       "6  Subject: here ' s a hot play in motion  homela...     1   \n",
       "7  Subject: save your money buy getting this thin...     1   \n",
       "8  Subject: undeliverable : home based business f...     1   \n",
       "9  Subject: save your money buy getting this thin...     1   \n",
       "\n",
       "                                      processed_text  \n",
       "0  naturally irresistible corporate identity lt r...  \n",
       "1  stock trading gunslinger fanny merrill muzo co...  \n",
       "2  unbelievable new homes made easy im wanting sh...  \n",
       "3  color printing special request additional info...  \n",
       "4  money get software cds software compatibility ...  \n",
       "5  great nnews hello welcome medzonline sh ground...  \n",
       "6  hot play motion homeland security investments ...  \n",
       "7  save money buy getting thing tried cialls yet ...  \n",
       "8  undeliverable home based business grownups mes...  \n",
       "9  save money buy getting thing tried cialls yet ...  "
      ]
     },
     "execution_count": 10,
     "metadata": {},
     "output_type": "execute_result"
    }
   ],
   "source": [
    "data.head(10)"
   ]
  },
  {
   "cell_type": "markdown",
   "id": "f5c7b92a",
   "metadata": {},
   "source": [
    "Now, we can separate the dataset into train, validation and test datasets, in 70%, 15% and 15% respectively."
   ]
  },
  {
   "cell_type": "code",
   "execution_count": 11,
   "id": "422ffd68",
   "metadata": {},
   "outputs": [],
   "source": [
    "# Breaking the dataset into 70%, 15%, 15% for train, validation and test respectively\n",
    "train, val_test = train_test_split(data[[\"processed_text\", \"spam\"]], test_size = 0.30, random_state=42)\n",
    "val, test = train_test_split(val_test, test_size = 0.50, random_state=42)"
   ]
  },
  {
   "cell_type": "markdown",
   "id": "fa9e5c28",
   "metadata": {},
   "source": [
    "Saving these datasets"
   ]
  },
  {
   "cell_type": "code",
   "execution_count": 12,
   "id": "919307fb",
   "metadata": {},
   "outputs": [],
   "source": [
    "train.to_csv(\"train.csv\", index=False)\n",
    "val.to_csv(\"validation.csv\", index=False)\n",
    "test.to_csv(\"test.csv\", index=False)"
   ]
  }
 ],
 "metadata": {
  "kernelspec": {
   "display_name": "Python 3 (ipykernel)",
   "language": "python",
   "name": "python3"
  },
  "language_info": {
   "codemirror_mode": {
    "name": "ipython",
    "version": 3
   },
   "file_extension": ".py",
   "mimetype": "text/x-python",
   "name": "python",
   "nbconvert_exporter": "python",
   "pygments_lexer": "ipython3",
   "version": "3.9.16"
  }
 },
 "nbformat": 4,
 "nbformat_minor": 5
}
